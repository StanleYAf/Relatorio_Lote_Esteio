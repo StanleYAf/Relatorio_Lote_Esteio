{
 "cells": [
  {
   "cell_type": "code",
   "execution_count": 12,
   "id": "beaae6ff",
   "metadata": {},
   "outputs": [
    {
     "name": "stdout",
     "output_type": "stream",
     "text": [
      "Colunas em df: Index(['Brinco', 'Nome', 'Sexo', 'Raça', 'Lote', 'Fase', 'Idade na Morte',\n",
      "       'Data da Morte', 'Causa da Morte', 'OBS'],\n",
      "      dtype='object')\n"
     ]
    }
   ],
   "source": [
    "#FORMATAÇÃO MORTE#\n",
    "\n",
    "import pandas as pd\n",
    "\n",
    "\n",
    "df = pd.read_excel(r'C:\\Users\\stanley.afonso\\Downloads\\Relatório Mortalidade do Rebanho (5).xlsx')\n",
    "\n",
    "df = df.drop([0,1,2,3])\n",
    "\n",
    "newn = ['Brinco','Nome','Sexo','Raça','Lote','Fase','Idade na Morte','Data da Morte','Causa da Morte','OBS']\n",
    "df.columns = newn\n",
    "#print(\"Colunas em df:\", df.columns)\n",
    "\n",
    "coldp = ['Nome','Raça','Fase','Causa da Morte','OBS']\n",
    "\n",
    "df = df.drop(coldp, axis=1)\n",
    "\n",
    "df.to_excel(r'C:\\Users\\stanley.afonso\\Downloads\\BatimentoM.xlsx', index=False)"
   ]
  },
  {
   "cell_type": "code",
   "execution_count": 13,
   "id": "d2ac3561",
   "metadata": {},
   "outputs": [
    {
     "name": "stdout",
     "output_type": "stream",
     "text": [
      "Colunas em df: Index(['Lote', 'Brinco', 'Nome', 'Raça', 'Sexo', 'Idade', 'Status', 'Status R',\n",
      "       'Cria', 'Cria', 'Cria'],\n",
      "      dtype='object')\n"
     ]
    }
   ],
   "source": [
    "#FORMATAÇÃO LOTE#\n",
    "\n",
    "import pandas as pd\n",
    "\n",
    "\n",
    "df = pd.read_excel(r'C:\\Users\\stanley.afonso\\Downloads\\Relatório Composição de Lotes (29).xlsx')\n",
    "\n",
    "df = df.drop([0,1,2,3])\n",
    "\n",
    "newn = ['Lote','Brinco','Nome','Raça','Sexo','Idade','Status','Status R','Cria','Cria','Cria',]\n",
    "df.columns = newn\n",
    "#print(\"Colunas em df:\", df.columns)\n",
    "\n",
    "coldp = ['Nome','Raça','Status','Status R','Cria', 'Cria', 'Cria']\n",
    "\n",
    "df = df.drop(coldp, axis=1)\n",
    "\n",
    "df.to_excel(r'C:\\Users\\stanley.afonso\\Downloads\\BatimentoF01.xlsx', index=False)"
   ]
  },
  {
   "cell_type": "code",
   "execution_count": null,
   "id": "2606002e",
   "metadata": {},
   "outputs": [],
   "source": []
  }
 ],
 "metadata": {
  "kernelspec": {
   "display_name": "Python 3 (ipykernel)",
   "language": "python",
   "name": "python3"
  },
  "language_info": {
   "codemirror_mode": {
    "name": "ipython",
    "version": 3
   },
   "file_extension": ".py",
   "mimetype": "text/x-python",
   "name": "python",
   "nbconvert_exporter": "python",
   "pygments_lexer": "ipython3",
   "version": "3.11.5"
  }
 },
 "nbformat": 4,
 "nbformat_minor": 5
}
